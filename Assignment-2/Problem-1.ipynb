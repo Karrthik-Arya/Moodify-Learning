{
 "cells": [
  {
   "cell_type": "code",
   "execution_count": 2,
   "id": "deadly-reaction",
   "metadata": {},
   "outputs": [],
   "source": [
    "import pandas as pd\n",
    "import matplotlib.pyplot as plt\n",
    "import seaborn as sns\n",
    "import numpy as np\n",
    "import numpy.random as nr\n",
    "import math\n",
    "\n",
    "%matplotlib inline"
   ]
  },
  {
   "cell_type": "code",
   "execution_count": 17,
   "id": "pressed-deployment",
   "metadata": {},
   "outputs": [
    {
     "name": "stdout",
     "output_type": "stream",
     "text": [
      "   CustomerID Title  FirstName MiddleName LastName Suffix  \\\n",
      "0       11000   NaN        Jon          V     Yang    NaN   \n",
      "1       11001   NaN     Eugene          L    Huang    NaN   \n",
      "2       11002   NaN      Ruben        NaN   Torres    NaN   \n",
      "3       11003   NaN    Christy        NaN      Zhu    NaN   \n",
      "4       11004   NaN  Elizabeth        NaN  Johnson    NaN   \n",
      "\n",
      "          AddressLine1 AddressLine2         City StateProvinceName  ...  \\\n",
      "0      3761 N. 14th St          NaN  Rockhampton        Queensland  ...   \n",
      "1           2243 W St.          NaN      Seaford          Victoria  ...   \n",
      "2     5844 Linden Land          NaN       Hobart          Tasmania  ...   \n",
      "3     1825 Village Pl.          NaN   North Ryde   New South Wales  ...   \n",
      "4  7553 Harness Circle          NaN   Wollongong   New South Wales  ...   \n",
      "\n",
      "    BirthDate   Education    Occupation Gender MaritalStatus HomeOwnerFlag  \\\n",
      "0  1966-04-08  Bachelors   Professional      M             M             1   \n",
      "1  1965-05-14  Bachelors   Professional      M             S             0   \n",
      "2  1965-08-12  Bachelors   Professional      M             M             1   \n",
      "3  1968-02-15  Bachelors   Professional      F             S             0   \n",
      "4  1968-08-08  Bachelors   Professional      F             S             1   \n",
      "\n",
      "  NumberCarsOwned NumberChildrenAtHome  TotalChildren  YearlyIncome  \n",
      "0               0                    0              2        137947  \n",
      "1               1                    3              3        101141  \n",
      "2               1                    3              3         91945  \n",
      "3               1                    0              0         86688  \n",
      "4               4                    5              5         92771  \n",
      "\n",
      "[5 rows x 23 columns]\n"
     ]
    }
   ],
   "source": [
    "AW_data = pd.read_csv('AdvWorksCusts.csv')\n",
    "print(AW_data.head())\n",
    "AW_test = pd.read_csv('AW_test.csv')"
   ]
  },
  {
   "cell_type": "code",
   "execution_count": null,
   "id": "japanese-herald",
   "metadata": {},
   "outputs": [],
   "source": []
  }
 ],
 "metadata": {
  "kernelspec": {
   "display_name": "Python 3",
   "language": "python",
   "name": "python3"
  },
  "language_info": {
   "codemirror_mode": {
    "name": "ipython",
    "version": 3
   },
   "file_extension": ".py",
   "mimetype": "text/x-python",
   "name": "python",
   "nbconvert_exporter": "python",
   "pygments_lexer": "ipython3",
   "version": "3.8.5"
  }
 },
 "nbformat": 4,
 "nbformat_minor": 5
}
