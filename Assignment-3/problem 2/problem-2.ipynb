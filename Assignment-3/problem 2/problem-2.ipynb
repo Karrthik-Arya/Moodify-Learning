{
 "cells": [
  {
   "cell_type": "code",
   "execution_count": 1,
   "metadata": {
    "id": "7cpxdry21sSB"
   },
   "outputs": [],
   "source": [
    "import numpy as np\n",
    "import pandas as pd\n",
    "import matplotlib.pyplot as plt\n",
    "%matplotlib inline"
   ]
  },
  {
   "cell_type": "code",
   "execution_count": 2,
   "metadata": {
    "id": "YpjW9xQW2ElY"
   },
   "outputs": [],
   "source": [
    "data = pd.read_csv('https://raw.githubusercontent.com/Karrthik-Arya/Moodify-Learning/master/Assignment-3/problem%202/train.csv')\n"
   ]
  },
  {
   "cell_type": "code",
   "execution_count": 3,
   "metadata": {
    "colab": {
     "base_uri": "https://localhost:8080/"
    },
    "id": "moK08NB72ges",
    "outputId": "0978aa1f-426a-4383-d922-896d149c143d"
   },
   "outputs": [
    {
     "data": {
      "text/plain": [
       "(42000, 28, 28, 1)"
      ]
     },
     "execution_count": 3,
     "metadata": {},
     "output_type": "execute_result"
    }
   ],
   "source": [
    "x_train = data.iloc[:,1:].values.astype('float32') \n",
    "y_train = data.iloc[:,0].values.astype('int32')\n",
    "x_train = x_train.reshape(x_train.shape[0], 28, 28,1)\n",
    "x_train.shape"
   ]
  },
  {
   "cell_type": "code",
   "execution_count": 4,
   "metadata": {
    "id": "to_vZxo-3FJU"
   },
   "outputs": [],
   "source": [
    "from keras.utils.np_utils import to_categorical\n",
    "y_train= to_categorical(y_train)"
   ]
  },
  {
   "cell_type": "code",
   "execution_count": 5,
   "metadata": {
    "colab": {
     "base_uri": "https://localhost:8080/"
    },
    "id": "Wmz2Dlz23HPM",
    "outputId": "b247b050-5684-4930-958f-52f97591048b"
   },
   "outputs": [
    {
     "data": {
      "text/plain": [
       "array([[0., 1., 0., ..., 0., 0., 0.],\n",
       "       [1., 0., 0., ..., 0., 0., 0.],\n",
       "       [0., 1., 0., ..., 0., 0., 0.],\n",
       "       ...,\n",
       "       [0., 0., 0., ..., 1., 0., 0.],\n",
       "       [0., 0., 0., ..., 0., 0., 0.],\n",
       "       [0., 0., 0., ..., 0., 0., 1.]], dtype=float32)"
      ]
     },
     "execution_count": 5,
     "metadata": {},
     "output_type": "execute_result"
    }
   ],
   "source": [
    "y_train"
   ]
  },
  {
   "cell_type": "code",
   "execution_count": 6,
   "metadata": {
    "id": "3Tg0ZRXsD9yQ"
   },
   "outputs": [],
   "source": [
    "from keras.models import  Sequential\n",
    "from keras.layers.core import  Lambda , Dense, Flatten, Dropout, Activation\n",
    "from keras.layers import Convolution2D, MaxPooling2D\n",
    "np.random.seed(39)"
   ]
  },
  {
   "cell_type": "code",
   "execution_count": 7,
   "metadata": {
    "id": "k-tAgebGEwWf"
   },
   "outputs": [],
   "source": [
    " model = Sequential([\n",
    "        Convolution2D(32,(3,3), activation='relu', input_shape = (28,28,1)),\n",
    "        MaxPooling2D((3,3)),\n",
    "        Convolution2D(64,(3,3), activation='relu'),\n",
    "        MaxPooling2D((3,3)),\n",
    "        Flatten(),\n",
    "        Dense(512, activation='relu'),\n",
    "        Dense(10, activation='softmax')\n",
    "        ])\n",
    "model.compile(optimizer =\"Adam\", loss='categorical_crossentropy',\n",
    "                  metrics=['accuracy'])"
   ]
  },
  {
   "cell_type": "code",
   "execution_count": 8,
   "metadata": {
    "colab": {
     "base_uri": "https://localhost:8080/"
    },
    "id": "PnJpO_H5IHQl",
    "outputId": "f88723d3-22da-4cac-ab14-83094b97e742"
   },
   "outputs": [
    {
     "name": "stdout",
     "output_type": "stream",
     "text": [
      "Epoch 1/10\n",
      "296/296 - 12s - loss: 1.0038 - accuracy: 0.8809 - val_loss: 0.1208 - val_accuracy: 0.9610\n",
      "Epoch 2/10\n",
      "296/296 - 11s - loss: 0.1004 - accuracy: 0.9693 - val_loss: 0.0911 - val_accuracy: 0.9707\n",
      "Epoch 3/10\n",
      "296/296 - 11s - loss: 0.0669 - accuracy: 0.9789 - val_loss: 0.0777 - val_accuracy: 0.9764\n",
      "Epoch 4/10\n",
      "296/296 - 10s - loss: 0.0494 - accuracy: 0.9846 - val_loss: 0.0720 - val_accuracy: 0.9788\n",
      "Epoch 5/10\n",
      "296/296 - 10s - loss: 0.0385 - accuracy: 0.9877 - val_loss: 0.0633 - val_accuracy: 0.9810\n",
      "Epoch 6/10\n",
      "296/296 - 10s - loss: 0.0322 - accuracy: 0.9895 - val_loss: 0.0729 - val_accuracy: 0.9810\n",
      "Epoch 7/10\n",
      "296/296 - 11s - loss: 0.0262 - accuracy: 0.9907 - val_loss: 0.0704 - val_accuracy: 0.9795\n",
      "Epoch 8/10\n",
      "296/296 - 10s - loss: 0.0255 - accuracy: 0.9913 - val_loss: 0.0707 - val_accuracy: 0.9831\n",
      "Epoch 9/10\n",
      "296/296 - 10s - loss: 0.0226 - accuracy: 0.9925 - val_loss: 0.0687 - val_accuracy: 0.9840\n",
      "Epoch 10/10\n",
      "296/296 - 10s - loss: 0.0240 - accuracy: 0.9918 - val_loss: 0.0774 - val_accuracy: 0.9821\n"
     ]
    },
    {
     "data": {
      "text/plain": [
       "<tensorflow.python.keras.callbacks.History at 0x7f9ee06ac0d0>"
      ]
     },
     "execution_count": 8,
     "metadata": {},
     "output_type": "execute_result"
    }
   ],
   "source": [
    "model.optimizer.lr = 0.0009\n",
    "model.fit(x_train, y_train, epochs =10, batch_size=128, validation_split= 0.1, verbose=2)"
   ]
  },
  {
   "cell_type": "code",
   "execution_count": 9,
   "metadata": {
    "colab": {
     "base_uri": "https://localhost:8080/"
    },
    "id": "q5fCsnDAKKS6",
    "outputId": "e97730f6-5f8d-4fc4-b6ee-80522a6d7ad0"
   },
   "outputs": [
    {
     "name": "stderr",
     "output_type": "stream",
     "text": [
      "/home/winston/anaconda3/lib/python3.8/site-packages/tensorflow/python/keras/engine/sequential.py:450: UserWarning: `model.predict_classes()` is deprecated and will be removed after 2021-01-01. Please use instead:* `np.argmax(model.predict(x), axis=-1)`,   if your model does multi-class classification   (e.g. if it uses a `softmax` last-layer activation).* `(model.predict(x) > 0.5).astype(\"int32\")`,   if your model does binary classification   (e.g. if it uses a `sigmoid` last-layer activation).\n",
      "  warnings.warn('`model.predict_classes()` is deprecated and '\n"
     ]
    }
   ],
   "source": [
    "test_data  = pd.read_csv(\"https://raw.githubusercontent.com/Karrthik-Arya/Moodify-Learning/master/Assignment-3/problem%202/test.csv\")\n",
    "x_test = test_data.iloc[:,:].values.astype('float32')\n",
    "x_test = x_test.reshape(x_test.shape[0], 28,28,1)\n",
    "predictions = model.predict_classes(x_test)"
   ]
  },
  {
   "cell_type": "code",
   "execution_count": 10,
   "metadata": {
    "id": "saj9OsuIN1Q4"
   },
   "outputs": [],
   "source": [
    "submissions=pd.DataFrame({\"ImageId\": list(range(1,len(predictions)+1)),\n",
    "                         \"Label\": predictions})\n",
    "submissions.to_csv(\"test_predictions.csv\", index = False)"
   ]
  },
  {
   "cell_type": "code",
   "execution_count": null,
   "metadata": {
    "id": "LAJFx19INQZT"
   },
   "outputs": [],
   "source": []
  }
 ],
 "metadata": {
  "colab": {
   "name": "MNIST_CNN.ipynb",
   "provenance": []
  },
  "kernelspec": {
   "display_name": "Python 3",
   "language": "python",
   "name": "python3"
  },
  "language_info": {
   "codemirror_mode": {
    "name": "ipython",
    "version": 3
   },
   "file_extension": ".py",
   "mimetype": "text/x-python",
   "name": "python",
   "nbconvert_exporter": "python",
   "pygments_lexer": "ipython3",
   "version": "3.8.5"
  }
 },
 "nbformat": 4,
 "nbformat_minor": 1
}
