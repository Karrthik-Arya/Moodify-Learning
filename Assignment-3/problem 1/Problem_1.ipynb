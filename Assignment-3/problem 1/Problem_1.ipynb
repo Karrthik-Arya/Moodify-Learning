{
  "nbformat": 4,
  "nbformat_minor": 0,
  "metadata": {
    "colab": {
      "name": "Problem-1.ipynb",
      "provenance": [],
      "collapsed_sections": []
    },
    "kernelspec": {
      "name": "python3",
      "display_name": "Python 3"
    },
    "language_info": {
      "name": "python"
    }
  },
  "cells": [
    {
      "cell_type": "code",
      "metadata": {
        "id": "YhbaqKgwj814"
      },
      "source": [
        "import numpy as np\n",
        "import pandas as pd\n",
        "import math\n",
        "import matplotlib.pyplot as plt\n",
        "%matplotlib inline"
      ],
      "execution_count": 1,
      "outputs": []
    },
    {
      "cell_type": "code",
      "metadata": {
        "colab": {
          "base_uri": "https://localhost:8080/",
          "height": 202
        },
        "id": "tkwOok4akGPE",
        "outputId": "d05ccfd2-9972-4b35-e947-aa9842e1fdef"
      },
      "source": [
        "data = pd.read_csv(\"https://raw.githubusercontent.com/Karrthik-Arya/Moodify-Learning/master/Assignment-3/problem%201/train.csv\")\n",
        "val_data = pd.read_csv(\"https://raw.githubusercontent.com/Karrthik-Arya/Moodify-Learning/master/Assignment-3/problem%201/val.csv\")\n",
        "data.head()"
      ],
      "execution_count": 2,
      "outputs": [
        {
          "output_type": "execute_result",
          "data": {
            "text/html": [
              "<div>\n",
              "<style scoped>\n",
              "    .dataframe tbody tr th:only-of-type {\n",
              "        vertical-align: middle;\n",
              "    }\n",
              "\n",
              "    .dataframe tbody tr th {\n",
              "        vertical-align: top;\n",
              "    }\n",
              "\n",
              "    .dataframe thead th {\n",
              "        text-align: right;\n",
              "    }\n",
              "</style>\n",
              "<table border=\"1\" class=\"dataframe\">\n",
              "  <thead>\n",
              "    <tr style=\"text-align: right;\">\n",
              "      <th></th>\n",
              "      <th>x-box</th>\n",
              "      <th>y-box</th>\n",
              "      <th>width</th>\n",
              "      <th>high</th>\n",
              "      <th>onpix</th>\n",
              "      <th>x-bar</th>\n",
              "      <th>y-bar</th>\n",
              "      <th>x2bar</th>\n",
              "      <th>y2bar</th>\n",
              "      <th>xybar</th>\n",
              "      <th>x2ybr</th>\n",
              "      <th>xy2br</th>\n",
              "      <th>x-ege</th>\n",
              "      <th>xegvy</th>\n",
              "      <th>y-ege</th>\n",
              "      <th>yegvx</th>\n",
              "      <th>letter</th>\n",
              "    </tr>\n",
              "  </thead>\n",
              "  <tbody>\n",
              "    <tr>\n",
              "      <th>0</th>\n",
              "      <td>4</td>\n",
              "      <td>7</td>\n",
              "      <td>5</td>\n",
              "      <td>5</td>\n",
              "      <td>4</td>\n",
              "      <td>7</td>\n",
              "      <td>6</td>\n",
              "      <td>7</td>\n",
              "      <td>5</td>\n",
              "      <td>6</td>\n",
              "      <td>4</td>\n",
              "      <td>7</td>\n",
              "      <td>3</td>\n",
              "      <td>7</td>\n",
              "      <td>3</td>\n",
              "      <td>7</td>\n",
              "      <td>N</td>\n",
              "    </tr>\n",
              "    <tr>\n",
              "      <th>1</th>\n",
              "      <td>3</td>\n",
              "      <td>9</td>\n",
              "      <td>4</td>\n",
              "      <td>7</td>\n",
              "      <td>2</td>\n",
              "      <td>7</td>\n",
              "      <td>6</td>\n",
              "      <td>14</td>\n",
              "      <td>5</td>\n",
              "      <td>8</td>\n",
              "      <td>13</td>\n",
              "      <td>7</td>\n",
              "      <td>3</td>\n",
              "      <td>9</td>\n",
              "      <td>0</td>\n",
              "      <td>8</td>\n",
              "      <td>U</td>\n",
              "    </tr>\n",
              "    <tr>\n",
              "      <th>2</th>\n",
              "      <td>3</td>\n",
              "      <td>3</td>\n",
              "      <td>4</td>\n",
              "      <td>4</td>\n",
              "      <td>1</td>\n",
              "      <td>7</td>\n",
              "      <td>7</td>\n",
              "      <td>4</td>\n",
              "      <td>4</td>\n",
              "      <td>7</td>\n",
              "      <td>6</td>\n",
              "      <td>8</td>\n",
              "      <td>3</td>\n",
              "      <td>8</td>\n",
              "      <td>4</td>\n",
              "      <td>8</td>\n",
              "      <td>X</td>\n",
              "    </tr>\n",
              "    <tr>\n",
              "      <th>3</th>\n",
              "      <td>4</td>\n",
              "      <td>5</td>\n",
              "      <td>5</td>\n",
              "      <td>4</td>\n",
              "      <td>5</td>\n",
              "      <td>8</td>\n",
              "      <td>8</td>\n",
              "      <td>4</td>\n",
              "      <td>4</td>\n",
              "      <td>7</td>\n",
              "      <td>7</td>\n",
              "      <td>8</td>\n",
              "      <td>5</td>\n",
              "      <td>10</td>\n",
              "      <td>9</td>\n",
              "      <td>10</td>\n",
              "      <td>S</td>\n",
              "    </tr>\n",
              "    <tr>\n",
              "      <th>4</th>\n",
              "      <td>6</td>\n",
              "      <td>9</td>\n",
              "      <td>8</td>\n",
              "      <td>7</td>\n",
              "      <td>5</td>\n",
              "      <td>4</td>\n",
              "      <td>9</td>\n",
              "      <td>6</td>\n",
              "      <td>7</td>\n",
              "      <td>7</td>\n",
              "      <td>10</td>\n",
              "      <td>11</td>\n",
              "      <td>3</td>\n",
              "      <td>9</td>\n",
              "      <td>1</td>\n",
              "      <td>8</td>\n",
              "      <td>U</td>\n",
              "    </tr>\n",
              "  </tbody>\n",
              "</table>\n",
              "</div>"
            ],
            "text/plain": [
              "   x-box  y-box  width  high  onpix  ...  x-ege  xegvy  y-ege  yegvx  letter\n",
              "0      4      7      5     5      4  ...      3      7      3      7       N\n",
              "1      3      9      4     7      2  ...      3      9      0      8       U\n",
              "2      3      3      4     4      1  ...      3      8      4      8       X\n",
              "3      4      5      5     4      5  ...      5     10      9     10       S\n",
              "4      6      9      8     7      5  ...      3      9      1      8       U\n",
              "\n",
              "[5 rows x 17 columns]"
            ]
          },
          "metadata": {
            "tags": []
          },
          "execution_count": 2
        }
      ]
    },
    {
      "cell_type": "code",
      "metadata": {
        "colab": {
          "base_uri": "https://localhost:8080/"
        },
        "id": "gr3BDYexld1t",
        "outputId": "e487fc96-2c5b-4620-ca32-6d3449a0f57e"
      },
      "source": [
        "x_train = data.iloc[:,:-1].values.astype('float32')\n",
        "x_val = val_data.iloc[:,:-1].values.astype('float32')\n",
        "y_train = data.iloc[:,-1]\n",
        "y_val = val_data.iloc[:,-1]\n",
        "mean_px = x_train.mean().astype(np.float32)\n",
        "std_px = x_train.std().astype(np.float32)\n",
        "def standardize(x): \n",
        "    return (x-mean_px)/std_px\n",
        "x_val = standardize(x_val)\n",
        "x_train = standardize(x_train)\n",
        "\n",
        "x_train"
      ],
      "execution_count": 3,
      "outputs": [
        {
          "output_type": "execute_result",
          "data": {
            "text/plain": [
              "array([[-0.6633796 ,  0.3679242 , -0.31961167, ...,  0.3679242 ,\n",
              "        -1.0071476 ,  0.3679242 ],\n",
              "       [-1.0071476 ,  1.0554601 , -0.6633796 , ...,  1.0554601 ,\n",
              "        -2.0384514 ,  0.71169215],\n",
              "       [-1.0071476 , -1.0071476 , -0.6633796 , ...,  0.71169215,\n",
              "        -0.6633796 ,  0.71169215],\n",
              "       ...,\n",
              "       [-1.0071476 , -0.6633796 ,  0.02415627, ...,  0.3679242 ,\n",
              "        -1.0071476 ,  1.0554601 ],\n",
              "       [-1.0071476 ,  0.71169215, -0.6633796 , ...,  0.71169215,\n",
              "        -1.6946834 ,  0.3679242 ],\n",
              "       [-1.6946834 , -1.0071476 , -1.3509154 , ...,  0.3679242 ,\n",
              "        -2.0384514 ,  0.3679242 ]], dtype=float32)"
            ]
          },
          "metadata": {
            "tags": []
          },
          "execution_count": 3
        }
      ]
    },
    {
      "cell_type": "code",
      "metadata": {
        "id": "ded1aZc97FY4"
      },
      "source": [
        "unique,inverse = np.unique(y_train,return_inverse=True)\n",
        "y_train = np.eye(unique.shape[0])[inverse]"
      ],
      "execution_count": 4,
      "outputs": []
    },
    {
      "cell_type": "code",
      "metadata": {
        "id": "fQQuju8krRIC"
      },
      "source": [
        "val_unique,val_inverse = np.unique(y_val,return_inverse=True)\n",
        "y_val_ohe = np.eye(val_unique.shape[0])[val_inverse]"
      ],
      "execution_count": 5,
      "outputs": []
    },
    {
      "cell_type": "code",
      "metadata": {
        "id": "cD4cH2reoPdo"
      },
      "source": [
        "np.random.seed(42)\n",
        "n1,n2,n3 = 16,20,26\n",
        "w1 = np.random.randn(20,16)\n",
        "b1 = np.zeros(20)\n",
        "w1 = w1*math.sqrt(2.0/n1)\n",
        "w2 = np.random.randn(26,20)\n",
        "b2 =np.zeros(26)\n",
        "w2 = w2*math.sqrt(2.0/n2)"
      ],
      "execution_count": 6,
      "outputs": []
    },
    {
      "cell_type": "code",
      "metadata": {
        "id": "2FmWK7ON3uGf",
        "colab": {
          "base_uri": "https://localhost:8080/"
        },
        "outputId": "8c713ea8-0f83-4847-f4c5-b9f58d9961de"
      },
      "source": [
        "def relu(x):\n",
        "  return np.maximum(0,x)\n",
        "def relu_der(x):\n",
        "  if x<=0:\n",
        "    return 0\n",
        "  else:\n",
        "    return 1\n",
        "batch_size = 130\n",
        "lr = 0.95\n",
        "for k in range(20):\n",
        "  loss = 0\n",
        "  for y in range(len(y_train)//batch_size):\n",
        "    deltaw2 = np.zeros((batch_size,26,20))\n",
        "    deltab2 = np.zeros((batch_size,26))\n",
        "    deltaw1 = np.zeros((batch_size,20,16))\n",
        "    deltab1 = np.zeros((batch_size,20))\n",
        "    temp_loss =0\n",
        "    for x in range(batch_size):\n",
        "      x1 = x_train[x+y*batch_size]\n",
        "      x2i = w1.dot(x1) + b1\n",
        "      x2 = relu(x2i)\n",
        "      x3 = w2.dot(x2) + b2\n",
        "      x4 = np.zeros(26)\n",
        "      for i in range(26):\n",
        "        x4[i] = math.exp(x3[i])/np.sum(np.exp(x3))\n",
        "      ic = np.where(y_train[(x+y*batch_size)%len(y_train)]==1)[0][0]\n",
        "      deltax2 = np.zeros(20)\n",
        "      temp_loss+= -math.log(x4[ic])\n",
        "      for i in range(26):\n",
        "        if i == ic:\n",
        "          delta = x4[i]-1\n",
        "        else:\n",
        "          delta = x4[i]\n",
        "        deltab2[x][i] = delta\n",
        "        for j in range(20):\n",
        "          deltaw2[x][i][j] = x2[j]*delta \n",
        "          deltax2[j] += delta*w2[i][j]\n",
        "      for i in range(20):\n",
        "        delta1 = relu_der(x2i[i])\n",
        "        deltab1[x][i] = deltax2[i]*delta1 \n",
        "        for j in range(16):\n",
        "          deltaw1[x][i][j] = deltax2[i]*x1[j]*delta1\n",
        "    deltaw1 = np.mean(deltaw1, axis=0)\n",
        "    deltab1 = np.mean(deltab1, axis =0)\n",
        "    deltaw2 = np.mean(deltaw2, axis = 0)\n",
        "    deltab2 = np.mean(deltab2, axis =0)\n",
        "    w1 += -deltaw1*lr\n",
        "    b1 += -deltab1*lr\n",
        "    w2 += -deltaw2*lr\n",
        "    b2 += -deltab2*lr\n",
        "    temp_loss /= batch_size\n",
        "    loss += temp_loss\n",
        "  loss = loss/len(y_train)*batch_size\n",
        "  y_pred = []\n",
        "  val_loss = 0\n",
        "  for i in range(len(y_val)):\n",
        "    ix = np.where(y_val_ohe[i] == 1)[0][0]\n",
        "    x1 = x_val[i]\n",
        "    x2i = w1.dot(x1) + b1\n",
        "    x2 = relu(x2i)\n",
        "    x3 = w2.dot(x2) + b2\n",
        "    x4 = np.zeros(26)\n",
        "    for j in range(26):\n",
        "      x4[j] = math.exp(x3[j])/np.sum(np.exp(x3))\n",
        "    val_loss += -math.log(x4[ix])\n",
        "    y_pred.append(unique[np.where(x4 == np.amax(x4))[0][0]])\n",
        "  accuracy = np.mean(y_pred == y_val)\n",
        "  val_loss = val_loss/len(y_val)\n",
        "  print(\"train_loss = \"+str(loss))\n",
        "  print(\"val_loss = \" + str(val_loss))\n",
        "  print(\"val_accuracy = \"+str(accuracy))\n",
        "  \n",
        "  "
      ],
      "execution_count": 7,
      "outputs": [
        {
          "output_type": "stream",
          "text": [
            "train_loss = 1.6751013130546226\n",
            "val_loss = 1.0849092425569367\n",
            "val_accuracy = 0.6777142857142857\n",
            "train_loss = 1.0241381554812614\n",
            "val_loss = 0.8982531316514196\n",
            "val_accuracy = 0.7422857142857143\n",
            "train_loss = 0.8876766046672471\n",
            "val_loss = 0.8015781104481872\n",
            "val_accuracy = 0.7668571428571429\n",
            "train_loss = 0.8071723706283952\n",
            "val_loss = 0.7433737985354244\n",
            "val_accuracy = 0.7874285714285715\n",
            "train_loss = 0.7529280944411462\n",
            "val_loss = 0.6995692947250427\n",
            "val_accuracy = 0.7988571428571428\n",
            "train_loss = 0.7080032973864492\n",
            "val_loss = 0.6673500314363333\n",
            "val_accuracy = 0.8082857142857143\n",
            "train_loss = 0.6721096333283568\n",
            "val_loss = 0.6398945796778885\n",
            "val_accuracy = 0.8131428571428572\n",
            "train_loss = 0.6439996878467236\n",
            "val_loss = 0.6199899538891549\n",
            "val_accuracy = 0.816\n",
            "train_loss = 0.6200071541186343\n",
            "val_loss = 0.601082955202625\n",
            "val_accuracy = 0.8234285714285714\n",
            "train_loss = 0.6008140247748003\n",
            "val_loss = 0.5894086295390772\n",
            "val_accuracy = 0.8257142857142857\n",
            "train_loss = 0.5866462032311613\n",
            "val_loss = 0.5797213910508043\n",
            "val_accuracy = 0.8302857142857143\n",
            "train_loss = 0.5752026113912004\n",
            "val_loss = 0.5683344767897945\n",
            "val_accuracy = 0.8314285714285714\n",
            "train_loss = 0.5650923637204185\n",
            "val_loss = 0.5617476800621218\n",
            "val_accuracy = 0.8354285714285714\n",
            "train_loss = 0.5563114418716307\n",
            "val_loss = 0.5560115752837168\n",
            "val_accuracy = 0.8334285714285714\n",
            "train_loss = 0.545735609457766\n",
            "val_loss = 0.5527313272679343\n",
            "val_accuracy = 0.8365714285714285\n",
            "train_loss = 0.5367324096251074\n",
            "val_loss = 0.552237809800561\n",
            "val_accuracy = 0.8374285714285714\n",
            "train_loss = 0.5292580298595199\n",
            "val_loss = 0.5446102141097562\n",
            "val_accuracy = 0.8428571428571429\n",
            "train_loss = 0.5228090824410003\n",
            "val_loss = 0.5371004559682858\n",
            "val_accuracy = 0.8428571428571429\n",
            "train_loss = 0.5189527877664786\n",
            "val_loss = 0.5378569315577407\n",
            "val_accuracy = 0.84\n",
            "train_loss = 0.5114027100679793\n",
            "val_loss = 0.5346303694584467\n",
            "val_accuracy = 0.8425714285714285\n"
          ],
          "name": "stdout"
        }
      ]
    },
    {
      "cell_type": "code",
      "metadata": {
        "id": "FdPXdVGkchJl"
      },
      "source": [
        "test_data = pd.read_csv('https://raw.githubusercontent.com/Karrthik-Arya/Moodify-Learning/master/Assignment-3/problem%201/test.csv')\n",
        "x_test = test_data.iloc[:,:].values.astype('float32')\n",
        "x_test = standardize(x_test)"
      ],
      "execution_count": 17,
      "outputs": []
    },
    {
      "cell_type": "code",
      "metadata": {
        "id": "Cgq9xMR6iu2X"
      },
      "source": [
        "y_pred = []\n",
        "for i in range(len(x_test)):\n",
        "  x1 = x_test[i]\n",
        "  x2i = w1.dot(x1) + b1\n",
        "  x2 = relu(x2i)\n",
        "  x3 = w2.dot(x2) + b2\n",
        "  x4 = np.zeros(26)\n",
        "  for i in range(26):\n",
        "    x4[i] = math.exp(x3[i])/np.sum(np.exp(x3))\n",
        "  y_pred.append(unique[np.where(x4 == np.amax(x4))[0][0]])"
      ],
      "execution_count": 18,
      "outputs": []
    },
    {
      "cell_type": "code",
      "metadata": {
        "id": "tFvIdCuz2Ktr"
      },
      "source": [
        "submissions=pd.DataFrame({\"ID\": list(range(1,len(y_pred)+1)),\n",
        "                         \"Label\": y_pred})\n",
        "submissions.to_csv(\"test_predictions.csv\", index = False)"
      ],
      "execution_count": 19,
      "outputs": []
    }
  ]
}